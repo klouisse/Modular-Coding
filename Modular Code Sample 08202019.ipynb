{
 "cells": [
  {
   "cell_type": "markdown",
   "metadata": {},
   "source": [
    "# Sample: VN Customer Lapse Model"
   ]
  },
  {
   "cell_type": "markdown",
   "metadata": {},
   "source": [
    "Import Packages"
   ]
  },
  {
   "cell_type": "code",
   "execution_count": 64,
   "metadata": {},
   "outputs": [],
   "source": [
    "\n",
    "\n",
    "import pandas as pd\n",
    "import numpy as np\n",
    "import matplotlib as plt\n",
    "from varclushi import VarClusHi \n",
    "import scikitplot as skplt\n",
    "import time\n",
    "\n",
    "from scipy.stats import uniform as flt\n",
    "from scipy.stats import randint as itr\n",
    "\n",
    "\n",
    "#Algorithm\n",
    "from sklearn.model_selection import train_test_split, RandomizedSearchCV, KFold , cross_val_score, StratifiedKFold, cross_validate\n",
    "from sklearn.pipeline import Pipeline, make_pipeline\n",
    "from sklearn.linear_model import LogisticRegression\n",
    "from sklearn.ensemble import RandomForestClassifier\n",
    "from sklearn.preprocessing import StandardScaler\n",
    "from sklearn.impute import SimpleImputer\n",
    "from sklearn.feature_selection import VarianceThreshold\n",
    "from sklearn.metrics import  roc_auc_score, brier_score_loss, precision_score, recall_score, roc_curve\n",
    "from sklearn.calibration import calibration_curve\n",
    "from matplotlib import pyplot\n",
    "import pickle\n",
    "import lightgbm as lgb\n",
    "\n",
    "from lightgbm import LGBMClassifier\n",
    "                                                                                                        \n",
    "#Explainer\n",
    "\n",
    "import shap"
   ]
  },
  {
   "cell_type": "markdown",
   "metadata": {},
   "source": [
    "Import Dataset\n"
   ]
  },
  {
   "cell_type": "code",
   "execution_count": 103,
   "metadata": {},
   "outputs": [],
   "source": [
    "def get_data(data):\n",
    "    \"\"\"Used to import dataset\n",
    "    \n",
    "    Returns: Input Datframe\n",
    "    \"\"\"\n",
    "    return pd.read_sas(data)"
   ]
  },
  {
   "cell_type": "markdown",
   "metadata": {},
   "source": [
    "Data Preprocessing"
   ]
  },
  {
   "cell_type": "code",
   "execution_count": 104,
   "metadata": {},
   "outputs": [],
   "source": [
    "def data_preparation(data_in, data_index, remove_list, target):\n",
    "    \n",
    "    \"\"\"Prepare dataset for feature generation\n",
    "    \n",
    "    Steps:\n",
    "    1. Set index to unique ID in column\n",
    "    2. Drop unnecessary columns from source\n",
    "    4. Creates Feature Dataframe and Target Variable\n",
    "    \n",
    "     Args:\n",
    " \n",
    "    data_in: input data\n",
    "    index: input unique ID in data\n",
    "    list: list of columns to drop\n",
    "    y: target variable\n",
    "\n",
    "    Returns:\n",
    "\n",
    "    tuple containing 0: dataframe , 1:target\n",
    "    \"\"\"\n",
    "  \n",
    "    data_ft = data_in.set_index(data_in[data_index], inplace = True)\n",
    "    data_ft = data_in.drop(columns=remove_list)\n",
    "    target =  data_in[target]\n",
    "\n",
    "    return data_ft, target\n"
   ]
  },
  {
   "cell_type": "markdown",
   "metadata": {},
   "source": [
    "Data Model: Train and Test Set\n"
   ]
  },
  {
   "cell_type": "code",
   "execution_count": 105,
   "metadata": {},
   "outputs": [],
   "source": [
    "def data_partition(df_features, target, seed=123, prop=0.3):\n",
    "    \"\"\"Define Train and Test Set\n",
    "    \n",
    "    Args:\n",
    "    \n",
    "    1. df_features: dataframe of features\n",
    "    2. Target: Target Series\n",
    "    3. Seed: Random Seed default values\n",
    "    4. Prop: Test proportion\n",
    "    \n",
    "    Returns:\n",
    "    \n",
    "    Tuple of Train and Test Sets\n",
    "    \"\"\"\n",
    "    \n",
    "    x_train, x_test, y_train, y_test = train_test_split(df_features, target, stratify = target,\n",
    "                                                       random_state=seed, test_size=prop)\n",
    "    return x_train, x_test, y_train, y_test"
   ]
  },
  {
   "cell_type": "markdown",
   "metadata": {},
   "source": [
    "Feature Selection "
   ]
  },
  {
   "cell_type": "code",
   "execution_count": 106,
   "metadata": {},
   "outputs": [],
   "source": [
    "def feature_generation(df_features, target, corr_lmt = 0.9 ,eigval=1, n_clus=None):\n",
    "    \n",
    "    \"\"\"Apply Feature Selection \n",
    "    \n",
    "    1. Imputes NaN in Dataset\n",
    "    2. Remove features with Constant variance\n",
    "    3. Shortlists based on Correlation\n",
    "    4. Performs Variable Clustering using VarclusHi function\n",
    "    \n",
    "    Args:\n",
    "    \n",
    "    1. train_set: dataframe of features in training data\n",
    "    2. train_resp: target variable\n",
    "    3. corr_lmt : max correlation to consider on shotlist. Default is 0.9\n",
    "    4. eigval : max eigenvalue when doing clustering. Default is 1\n",
    "    5. n_clus : Clusters to be considered. Default value is none - builds all possible clusters\n",
    "    \n",
    "    \n",
    "    Returns:\n",
    "\n",
    "    Tuple of Shortlisted dataset, shortlisted variables\n",
    "    \"\"\"\n",
    "    \n",
    "    #Impute\n",
    "    df_features[df_features.isnull()] = 0\n",
    "    \n",
    "    #Remove Constant\n",
    "    constant_filter = VarianceThreshold(threshold = 0)\n",
    "    constant_filter.fit(df_features)\n",
    "    nonconstant = df_features.columns[constant_filter.get_support()].tolist()\n",
    "    df_features = df_features[nonconstant]\n",
    "    \n",
    "    #2 Remove Correlated variables\n",
    "    for_corr =[df_features, target]\n",
    "    for_corr = pd.concat((df_features, target), axis=1, join='inner')\n",
    "    corr = abs(for_corr.corr().iloc[:,-1])\n",
    "    corr = corr[(corr < corr_lmt)]\n",
    "    corr_slist = corr.index.tolist()\n",
    "    df_features = df_features[corr_slist]\n",
    "    \n",
    "    #3 Variable Clustering using VarClusHi\n",
    "    \n",
    "    cluster = VarClusHi(df_features, maxeigval2 = eigval, maxclus = n_clus)\n",
    "    cluster.varclus()\n",
    "    # Get top variables per cluster\n",
    "    list1 = cluster.rsquare.loc[cluster.rsquare.groupby([\"Cluster\"])['RS_Ratio'].idxmin()]\n",
    "    list1 = list1['Variable'].tolist()\n",
    "    df_features = df_features[list1]\n",
    "    \n",
    "    \n",
    "    return df_features, list1"
   ]
  },
  {
   "cell_type": "markdown",
   "metadata": {},
   "source": [
    "Model Selection"
   ]
  },
  {
   "cell_type": "code",
   "execution_count": 107,
   "metadata": {},
   "outputs": [],
   "source": [
    "def model_selection(x_train, y_train, x_test, y_test):\n",
    "    \"\"\"Perform Classification Model Selection\n",
    "    \n",
    "    Args:\n",
    "    \n",
    "    1. x_train = training data feature\n",
    "    2. y_train = training data label\n",
    "    3. x_test = test data feature\n",
    "    4. y_test = test data label\n",
    "    \n",
    "    Returns:\n",
    "    \n",
    "    Prints model scoring for model selection\n",
    "    \"\"\"\n",
    "    \n",
    "\n",
    "    pipe_lr = Pipeline([('scl', StandardScaler()),\n",
    "                    ('clf', LogisticRegression(random_state=123, solver = 'liblinear' ))])\n",
    "\n",
    "    pipe_rf = Pipeline([('classifier', RandomForestClassifier(random_state=123 , n_estimators = 1000))])\n",
    "\n",
    "\n",
    "    pipe_lgb = Pipeline([('lgb' , lgb.LGBMClassifier())])\n",
    "\n",
    "\n",
    "    pipe_rlgb = Pipeline([('lgb' , lgb.LGBMClassifier())])\n",
    "\n",
    "    cv_params = {'lgb__learning_rate': flt(0.001, 0.2),\n",
    "             'lgb__max_depth': [3, 10],\n",
    "             'lgb__min_data_in_leaf': [20, 100],\n",
    "             'lgb__colsample_by_tree':flt(0.5,0.9),\n",
    "             'lgb__min_child_weight' :[1,3],\n",
    "             'lgb__bagging_fraction' :flt(0, 1)\n",
    "             }\n",
    "\n",
    "\n",
    "    rs_pipe_lgb = RandomizedSearchCV(estimator=pipe_rlgb,\n",
    "                                 param_distributions=cv_params,\n",
    "                                 scoring='roc_auc',\n",
    "                                 n_iter =10,\n",
    "                                 cv=10,\n",
    "                                 random_state=123)\n",
    "\n",
    "    pipelines = [pipe_lr, pipe_rf, pipe_lgb, rs_pipe_lgb]\n",
    "\n",
    "\n",
    "    start_time = time.time()\n",
    "    params =[]\n",
    "    for p in pipelines:\n",
    "        params =  p.fit(x_train, y_train)\n",
    "        \n",
    "        print('Fit time: %s' % (time.time() - start_time))\n",
    "        print(\"model score: %.3f\" % p.score(x_test[shortlist], y_test))\n",
    "                                        \n",
    "    return "
   ]
  },
  {
   "cell_type": "markdown",
   "metadata": {},
   "source": [
    "Model Evaluation"
   ]
  },
  {
   "cell_type": "code",
   "execution_count": 108,
   "metadata": {},
   "outputs": [],
   "source": [
    "def model_fit(x_train, y_train, x_test, y_test):\n",
    "    \"\"\"Fits chosen model in dataset\n",
    "    \n",
    "    Args:\n",
    "    \n",
    "    1. x_train = training data feature\n",
    "    2. y_train = training data label\n",
    "    3. x_test = test data feature\n",
    "    4. y_test = test data label\n",
    "    \n",
    "    Returns:\n",
    "    \n",
    "    1. Fitted Model\n",
    "    2. Predicted Group\n",
    "    3. Predicted Probability\n",
    "    4. Probability Cutoff for Model Selection\n",
    "    5. Model Performance Metrics\n",
    "    \"\"\"\n",
    "    \n",
    "    #Apply Transformation to x_test\n",
    "    \n",
    "    x_test[x_test.isnull()] = 0\n",
    "    \n",
    "    #Raw Scores\n",
    "    model = clf.fit(x_train, y_train\n",
    "                   ,early_stopping_rounds =100, verbose=False, eval_metric = 'logloss'\n",
    "                   ,eval_set = (x_test, y_test))\n",
    "    \n",
    "    p_raw = model.predict_proba(x_train)\n",
    "    \n",
    "    cutoff = np.around(np.percentile(p_raw[:,1], np.arange(0, 100, 10)), decimals = 7)\n",
    "    \n",
    "    #Predicted Group\n",
    "    p_grp = model.predict(x_test)\n",
    "    metrics        = {\"ROC\" : roc_auc_score(y_test, p_grp),\n",
    "                      \"Precision\" : precision_score(y_test, p_grp),\n",
    "                      \"Recall\": recall_score(y_test, p_grp)}\n",
    "   \n",
    "    #Save Model\n",
    "    \n",
    "    pickle.dump(model, open(\"lapse_model_mod.p\" , \"wb\"))\n",
    "\n",
    "    return model, p_grp, p_raw, cutoff, metrics"
   ]
  },
  {
   "cell_type": "markdown",
   "metadata": {},
   "source": [
    "Model Validation"
   ]
  },
  {
   "cell_type": "code",
   "execution_count": 115,
   "metadata": {},
   "outputs": [],
   "source": [
    "def model_prediction(df, target, fitted_model):\n",
    "    \n",
    "    \"\"\"Evaluates model on Validation Set\n",
    "    \n",
    "    Args:\n",
    "    \n",
    "    1. df = validation set\n",
    "    2. target = response in validation set\n",
    "    3. model = fitted model\n",
    "\n",
    "    \n",
    "    Returns:\n",
    "    \n",
    "    1. test data with predicted prob [p_1], decile score [decile] and original target\n",
    "    2. test data without original target\n",
    "\n",
    "    \"\"\"\n",
    "    \n",
    "    model = pickle.load(open(fitted_model , \"rb\"))\n",
    "    df['p_1'] = model.predict_proba(df)[:,1]\n",
    "    \n",
    "    conditions = [\n",
    "    (df['p_1'] <   0.0339419),\n",
    "    (df['p_1'] >=  0.0339419) & (df['p_1'] < 0.0411623),\n",
    "    (df['p_1'] >=  0.0411623) & (df['p_1'] < 0.0544696),\n",
    "    (df['p_1'] >=  0.0544696) & (df['p_1'] < 0.0794567),\n",
    "    (df['p_1'] >=  0.0794567) & (df['p_1'] < 0.1010139),\n",
    "    (df['p_1'] >=  0.1010139) & (df['p_1'] < 0.1374370),\n",
    "    (df['p_1'] >=  0.1374370) & (df['p_1'] < 0.1973212),\n",
    "    (df['p_1'] >=  0.1973212) & (df['p_1'] < 0.3045569),\n",
    "    (df['p_1'] >=  0.3045569) & (df['p_1'] < 0.6198479),\n",
    "    (df['p_1'] >=  0.6198479)]\n",
    "    choices = [10,9,8,7,6,5,4,3,2,1]\n",
    "\n",
    "    df['decile'] = np.select(conditions, choices, default='null').astype(int)\n",
    "   \n",
    "    val_list = [df , target]\n",
    "    validation_sets = val_list[0].join(val_list[1])\n",
    "    \n",
    "    return validation_sets, df"
   ]
  },
  {
   "cell_type": "markdown",
   "metadata": {},
   "source": [
    "Reports Generation"
   ]
  },
  {
   "cell_type": "code",
   "execution_count": 119,
   "metadata": {},
   "outputs": [],
   "source": [
    "def generate_report(data, y):\n",
    "    \"\"\"Generates Decile Analysis\n",
    "    \n",
    "    Args:\n",
    "    \n",
    "    1. data = data for decile analysis\n",
    "    2. y = target variable\n",
    "    \n",
    "    Returns:\n",
    "    \n",
    "    1. decile analysis\n",
    "\n",
    "    \"\"\"\n",
    "    \n",
    "    data['nonresp'] = 1-data[y]\n",
    "    \n",
    "    deciles = pd.pivot_table(data=data,index=['decile'],\n",
    "                             values=[y,'nonresp'],\n",
    "                             aggfunc={y:[np.sum],\n",
    "                                     'nonresp':[np.sum]})\n",
    "    \n",
    "    deciles.to_csv(r'C:\\Users\\martken\\Documents\\sample.csv')\n",
    "    \n",
    "    return deciles"
   ]
  },
  {
   "cell_type": "markdown",
   "metadata": {},
   "source": [
    "# Apply Functions to Projects"
   ]
  },
  {
   "cell_type": "code",
   "execution_count": 109,
   "metadata": {},
   "outputs": [],
   "source": [
    "c_lapse = get_data(\"C:/Users/martken/Documents/VN Lapse Data/lapse_modular_sample.sas7bdat\")"
   ]
  },
  {
   "cell_type": "code",
   "execution_count": 110,
   "metadata": {},
   "outputs": [],
   "source": [
    "#Prepare Input data\n",
    "\n",
    "#Columns to drop\n",
    "\n",
    "remove_list = ['cli_num' , \n",
    "        'po_num' , \n",
    "        'pol_num',\n",
    "        'po1', \n",
    "        'po2', \n",
    "        'other_lapse',\n",
    "        'issue_cohort',\n",
    "        'po_tenure_acc', \n",
    "        'po_tenure_ci',\n",
    "        'po_tenure_inv',\n",
    "        'orphan_status',\n",
    "        'po_tenure_lp', \n",
    "        'digital_focus_ind',\n",
    "        'g_agt_stat_cd',\n",
    "        'srv_agt_ten_ass',\n",
    "        'clm_cws_ind',\n",
    "        'clm_ezc_ind',\n",
    "        'pmt_onl_ind',\n",
    "        'po_tenure_lts',\n",
    "        'po_tenure_med', \n",
    "        'orph_cli',\n",
    "        'mth_15']\n",
    "\n",
    "feature_data , target =data_preparation(c_lapse, 'cli_num', remove_list , target ='f_ever_lapse15')"
   ]
  },
  {
   "cell_type": "code",
   "execution_count": 111,
   "metadata": {},
   "outputs": [],
   "source": [
    "x_train, x_test, y_train, y_test = data_partition(feature_data , target)"
   ]
  },
  {
   "cell_type": "code",
   "execution_count": 112,
   "metadata": {},
   "outputs": [
    {
     "name": "stderr",
     "output_type": "stream",
     "text": [
      "C:\\Users\\martken\\AppData\\Local\\Continuum\\anaconda3\\lib\\site-packages\\ipykernel_launcher.py:25: SettingWithCopyWarning: \n",
      "A value is trying to be set on a copy of a slice from a DataFrame.\n",
      "Try using .loc[row_indexer,col_indexer] = value instead\n",
      "\n",
      "See the caveats in the documentation: http://pandas.pydata.org/pandas-docs/stable/indexing.html#indexing-view-versus-copy\n",
      "C:\\Users\\martken\\AppData\\Local\\Continuum\\anaconda3\\lib\\site-packages\\pandas\\core\\frame.py:3163: SettingWithCopyWarning: \n",
      "A value is trying to be set on a copy of a slice from a DataFrame\n",
      "\n",
      "See the caveats in the documentation: http://pandas.pydata.org/pandas-docs/stable/indexing.html#indexing-view-versus-copy\n",
      "  self._where(-key, value, inplace=True)\n"
     ]
    }
   ],
   "source": [
    "x_train, shortlist = feature_generation(x_train, y_train, 0.9)\n",
    "x_test = x_test[shortlist]"
   ]
  },
  {
   "cell_type": "code",
   "execution_count": 113,
   "metadata": {},
   "outputs": [
    {
     "name": "stdout",
     "output_type": "stream",
     "text": [
      "Fit time: 0.026000261306762695\n",
      "model score: 0.863\n",
      "Fit time: 2.3919999599456787\n",
      "model score: 0.863\n",
      "Fit time: 2.6760001182556152\n",
      "model score: 0.850\n",
      "Fit time: 9.424999952316284\n",
      "model score: 0.814\n"
     ]
    }
   ],
   "source": [
    "pipelines = model_selection(x_train, y_train, x_test, y_test)"
   ]
  },
  {
   "cell_type": "code",
   "execution_count": 114,
   "metadata": {},
   "outputs": [
    {
     "name": "stdout",
     "output_type": "stream",
     "text": [
      "{'ROC': 0.7229166666666667, 'Precision': 0.8484848484848485, 'Recall': 0.4666666666666667}\n",
      "[0.0270949 0.0339419 0.0411623 0.0544696 0.0794567 0.1010139 0.137437\n",
      " 0.1973212 0.3045569 0.6198479]\n"
     ]
    }
   ],
   "source": [
    "#Use LGBM as Final Model\n",
    "\n",
    "clf = LGBMClassifier(random_state=42)\n",
    "model, pred_grp, pred_prob, p_cutoff, metrics= model_fit(x_train ,y_train, x_test, y_test)\n",
    "print(metrics)\n",
    "print(p_cutoff)"
   ]
  },
  {
   "cell_type": "code",
   "execution_count": 116,
   "metadata": {},
   "outputs": [],
   "source": [
    "#Load Model\n",
    "\n",
    "labeled_test, pred_test = model_prediction(x_test, y_test, fitted_model = \"lapse_model_mod.p\" )"
   ]
  },
  {
   "cell_type": "code",
   "execution_count": 120,
   "metadata": {},
   "outputs": [
    {
     "name": "stdout",
     "output_type": "stream",
     "text": [
      "       f_ever_lapse15 nonresp\n",
      "                  sum     sum\n",
      "decile                       \n",
      "1                26.0     2.0\n",
      "2                 6.0    15.0\n",
      "3                 4.0    29.0\n",
      "4                 6.0    32.0\n",
      "5                 9.0    29.0\n",
      "6                 7.0    22.0\n",
      "7                 0.0    24.0\n",
      "8                 0.0    25.0\n",
      "9                 0.0    24.0\n",
      "10                2.0    38.0\n"
     ]
    }
   ],
   "source": [
    "decile_rep = generate_report(labeled_test, y='f_ever_lapse15')\n",
    "print(decile_rep)"
   ]
  },
  {
   "cell_type": "code",
   "execution_count": null,
   "metadata": {},
   "outputs": [],
   "source": []
  }
 ],
 "metadata": {
  "kernelspec": {
   "display_name": "Python 3",
   "language": "python",
   "name": "python3"
  },
  "language_info": {
   "codemirror_mode": {
    "name": "ipython",
    "version": 3
   },
   "file_extension": ".py",
   "mimetype": "text/x-python",
   "name": "python",
   "nbconvert_exporter": "python",
   "pygments_lexer": "ipython3",
   "version": "3.7.1"
  }
 },
 "nbformat": 4,
 "nbformat_minor": 2
}
